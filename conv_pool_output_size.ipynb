{
 "cells": [
  {
   "cell_type": "code",
   "execution_count": 1,
   "id": "b7c6141b",
   "metadata": {},
   "outputs": [
    {
     "name": "stdout",
     "output_type": "stream",
     "text": [
      "输出大小： (1, 10, 26, 26)\n"
     ]
    }
   ],
   "source": [
    "import math\n",
    "\"\"\"\n",
    "输入数据大小为 (batch_size, channels, height, width)\n",
    "卷积核大小为 (kernel_size, kernel_size)\n",
    "填充大小为 (padding, padding)\n",
    "步长为 (stride, stride)：\n",
    "\"\"\"\n",
    "def conv_output_size(input_size, kernel_size, padding, stride):\n",
    "   \n",
    "    \"\"\"\n",
    "    计算卷积后的输出大小\n",
    "    \"\"\"\n",
    "    output_size = math.floor((input_size + 2 * padding - kernel_size) / stride) + 1\n",
    "    return output_size\n",
    "\n",
    "input_size = (1, 10, 28, 28)\n",
    "batch_size, channels, height, width = input_size\n",
    "kernel_size = 3\n",
    "padding = 0\n",
    "stride = 1\n",
    "\n",
    "# 计算卷积后的输出大小\n",
    "out_height = conv_output_size(height, kernel_size, padding, stride)\n",
    "out_width = conv_output_size(width, kernel_size, padding, stride)\n",
    "\n",
    "# 输出结果\n",
    "print(\"输出大小：\", (batch_size, channels, out_height, out_width))"
   ]
  },
  {
   "cell_type": "code",
   "execution_count": 15,
   "id": "423b04af",
   "metadata": {},
   "outputs": [
    {
     "name": "stdout",
     "output_type": "stream",
     "text": [
      "(1, 10, 13, 13)\n"
     ]
    }
   ],
   "source": [
    "def pool_output_size(input_size, pool_size, strides, padding='VALID'):\n",
    "    \"\"\"\n",
    "    计算池化层的输出尺寸。\n",
    "\n",
    "    Args:\n",
    "        input_size: tuple, 输入张量的尺寸，格式为 (batch_size, channels, height, width)。\n",
    "        pool_size: tuple, 池化窗口的大小，格式为 (pool_height, pool_width)。\n",
    "        strides: tuple, 步幅的大小，格式为 (stride_height, stride_width)。\n",
    "        padding: str, 填充方式，可选值为 'VALID' 或 'SAME'。\n",
    "\n",
    "    Returns:\n",
    "        tuple, 输出张量的尺寸，格式为 (batch_size, channels, output_height, output_width)。\n",
    "    \"\"\"\n",
    "    batch_size, channels, height, width = input_size\n",
    "    pool_height, pool_width = pool_size\n",
    "    stride_height, stride_width = strides\n",
    "\n",
    "    if padding == 'VALID':\n",
    "        padding_height, padding_width = 0, 0\n",
    "    elif padding == 'SAME':\n",
    "        output_height = math.ceil(height / stride_height)\n",
    "        output_width = math.ceil(width / stride_width)\n",
    "        padding_height = max(0, (output_height - 1) * stride_height + pool_height - height)\n",
    "        padding_width = max(0, (output_width - 1) * stride_width + pool_width - width)\n",
    "    else:\n",
    "        raise ValueError(\"无效的填充方式。\")\n",
    "\n",
    "    output_height = (height + 2 * padding_height - pool_height) // stride_height + 1\n",
    "    output_width = (width + 2 * padding_width - pool_width) // stride_width + 1\n",
    "\n",
    "    return batch_size, channels, output_height, output_width\n",
    "\n",
    "input_size = (1, 10, 26, 26)\n",
    "pool_size = (2, 2)\n",
    "strides = (2, 2)\n",
    "padding = 'SAME'\n",
    "\n",
    "output_size = pool_output_size(input_size, pool_size, strides, padding)\n",
    "print(output_size) "
   ]
  }
 ],
 "metadata": {
  "kernelspec": {
   "display_name": "Python 3 (ipykernel)",
   "language": "python",
   "name": "python3"
  },
  "language_info": {
   "codemirror_mode": {
    "name": "ipython",
    "version": 3
   },
   "file_extension": ".py",
   "mimetype": "text/x-python",
   "name": "python",
   "nbconvert_exporter": "python",
   "pygments_lexer": "ipython3",
   "version": "3.8.16"
  }
 },
 "nbformat": 4,
 "nbformat_minor": 5
}
